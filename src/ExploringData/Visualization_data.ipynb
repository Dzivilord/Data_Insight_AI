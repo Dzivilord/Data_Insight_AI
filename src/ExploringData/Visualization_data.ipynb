{
 "cells": [
  {
   "cell_type": "markdown",
   "id": "c424a47b",
   "metadata": {},
   "source": [
    "<h1 align=\"center\">📊 TRỰC QUAN HOÁ DỮ LIỆU</h1>\n"
   ]
  },
  {
   "cell_type": "markdown",
   "id": "5f8d0530",
   "metadata": {},
   "source": [
    "<h1 align=\"center\">📖 Mục lục</h1>\n",
    "\n",
    "[I. Tiền xử lý bổ sung](#i)\n",
    "\n",
    "[II.Phân tích vấn đề và trực quan](#ii)\n",
    "- [1. Chủ đề 1: Phụ nữ và vấn đề với bệnh trầm cảm](#ii1)"
   ]
  },
  {
   "cell_type": "markdown",
   "id": "c2de4d31",
   "metadata": {},
   "source": [
    "> ## I. Tiền xử lý bổ sung <a id=\"i\"></a>"
   ]
  },
  {
   "cell_type": "markdown",
   "id": "1ce9a6bb",
   "metadata": {},
   "source": [
    "Import các thư viện hỗ trợ"
   ]
  },
  {
   "cell_type": "code",
   "execution_count": null,
   "id": "8663c038",
   "metadata": {},
   "outputs": [],
   "source": [
    "import pandas as pd \n",
    "import matplotlib.pyplot as plt\n",
    "import seaborn as sns "
   ]
  },
  {
   "cell_type": "markdown",
   "id": "3fb86e48",
   "metadata": {},
   "source": [
    "Đọc dữ liệu đầu vào"
   ]
  },
  {
   "cell_type": "code",
   "execution_count": null,
   "id": "f2a0ab90",
   "metadata": {},
   "outputs": [],
   "source": [
    "data_folder_path=\"../../dataset/\""
   ]
  },
  {
   "cell_type": "code",
   "execution_count": null,
   "id": "7eb2a3c3",
   "metadata": {},
   "outputs": [],
   "source": [
    "data=pd.read_csv(f\"{data_folder_path}/processed_data.csv\",sep=\",\",header=0)"
   ]
  },
  {
   "cell_type": "code",
   "execution_count": null,
   "id": "ac071374",
   "metadata": {},
   "outputs": [],
   "source": [
    "data.info()"
   ]
  },
  {
   "cell_type": "markdown",
   "id": "6e63d313",
   "metadata": {},
   "source": [
    "> ## II. Phân tích vấn đề và trực quan <a id=\"ii\"></a>"
   ]
  },
  {
   "cell_type": "markdown",
   "id": "c698ae85",
   "metadata": {},
   "source": [
    "### <span style=\"color:#CCCCCC; font-weight:bold;\"> Chủ đề 1: Phụ nữ và vấn đề với bệnh trầm cảm.</span> <a id=\"ii1\"></a>"
   ]
  },
  {
   "cell_type": "markdown",
   "id": "4611f043",
   "metadata": {},
   "source": [
    "* <span style=\"font-style:italic;\">Tại sao chủ đề này quan trọng</span>"
   ]
  },
  {
   "cell_type": "markdown",
   "id": "d09aafbf",
   "metadata": {},
   "source": [
    "Trầm cảm là kết quả của sự tương tác phức tạp giữa nhiều yếu tố bao gồm yếu tố sinh học, tâm lý-xã hội, yếu tố môi trường... Theo đó phụ nữ là nhóm người chịu ảnh hưởng nặng nhất từ các yếu tố trên do sự thay đổi mạnh mẽ của nội tiết tố như hormon estrogen và progesterone trong các giai đoạn quan trọng của cuộc đời như dậy thì. Thêm vào đó phụ nữ cũng là nhóm đối tượng bị ảnh hưởng nặng nề bởi xã hội như kỳ vọng, lạm dụng, bất công - Theo [Vinmec](https://www.vinmec.com/vie/bai-viet/tram-cam-o-phu-nu-nhung-dieu-can-biet-vi).\n"
   ]
  },
  {
   "cell_type": "markdown",
   "id": "6a140fdc",
   "metadata": {},
   "source": [
    "* <span style=\"font-style:italic;\">Lợi ích khi phân tích vấn đề này</span>"
   ]
  },
  {
   "cell_type": "markdown",
   "id": "f9b9a71b",
   "metadata": {},
   "source": [
    "Xác thực vấn đề này giúp mọi người trong xã hội có sự đối xử công bằng và hiểu rõ hơn về tình trạng sức khoẻ tinh thần của phụ nữ. Đồng thời giúp chỉnh bản thân những người phụ nữ có thể nắm rõ các yếu tố ảnh hưởng đến bản thân để có sự điều chỉnh hợp lý đối với cuộc sống bản thân."
   ]
  },
  {
   "cell_type": "markdown",
   "id": "1dd03acc",
   "metadata": {},
   "source": [
    "* <span style=\"font-style:italic;\">Trực quan hoá</span>"
   ]
  },
  {
   "cell_type": "code",
   "execution_count": null,
   "id": "18c0583e",
   "metadata": {},
   "outputs": [],
   "source": [
    "\n",
    "# Tổng số người theo giới tính\n",
    "total_by_gender = data.groupby('Gender').size()\n",
    "# Số người trầm cảm theo giới tính\n",
    "depressed_by_gender = data[data['Depression']==1].groupby('Gender').size()\n",
    "suicidal_thoughts_by_gender = data[(data['Have you ever had suicidal thoughts ?'] =='Yes')].groupby('Gender').size()\n",
    "# Tính tỉ lệ phần trăm\n",
    "depression_rate = (depressed_by_gender / total_by_gender) * 100\n",
    "suicida_thoughts_rate= (suicidal_thoughts_by_gender / total_by_gender)*100\n",
    "# Hiển thị\n",
    "depression_rate\n"
   ]
  },
  {
   "cell_type": "code",
   "execution_count": null,
   "id": "8b61d969",
   "metadata": {},
   "outputs": [],
   "source": [
    "suicida_thoughts_rate"
   ]
  },
  {
   "cell_type": "code",
   "execution_count": null,
   "id": "fbd26ee7",
   "metadata": {},
   "outputs": [],
   "source": [
    "\n",
    "fig, axes = plt.subplots(1, 2, figsize=(14, 6))\n",
    "\n",
    "# Biểu đồ tỉ lệ trầm cảm theo giới tính\n",
    "depression_rate.plot(kind='bar', color=['#A084CA', '#007ACC'], ax=axes[0])\n",
    "axes[0].set_title('Tỉ lệ trầm cảm theo giới tính')\n",
    "axes[0].set_ylabel('Tỉ lệ (%)')\n",
    "axes[0].set_xlabel('Giới tính')\n",
    "axes[0].set_xticks(range(len(depression_rate.index)))\n",
    "axes[0].set_xticklabels(depression_rate.index, rotation=0)\n",
    "axes[0].set_ylim(0, 100)\n",
    "# Hiển thị giá trị trên đầu mỗi cột\n",
    "for i, value in enumerate(depression_rate):\n",
    "    axes[0].text(i, value + 1, f'{value:.1f}%', ha='center', va='bottom', fontsize=10)\n",
    "axes[0].grid(axis='y', linestyle='--', alpha=0.7)\n",
    "\n",
    "# Biểu đồ tỉ lệ có ý định tự tử theo giới tính\n",
    "suicida_thoughts_rate.plot(kind='bar', color=['#A084CA', '#007ACC'], ax=axes[1])\n",
    "axes[1].set_title('Tỉ lệ có ý định tự tử theo giới tính')\n",
    "axes[1].set_ylabel('Tỉ lệ (%)')\n",
    "axes[1].set_xlabel('Giới tính')\n",
    "axes[1].set_xticks(range(len(suicida_thoughts_rate.index)))\n",
    "axes[1].set_xticklabels(suicida_thoughts_rate.index, rotation=0)\n",
    "axes[1].set_ylim(0, 100)\n",
    "for i, value in enumerate(suicida_thoughts_rate):\n",
    "    axes[1].text(i, value + 1, f'{value:.1f}%', ha='center', va='bottom', fontsize=10)\n",
    "axes[1].grid(axis='y', linestyle='--', alpha=0.7)\n",
    "axes[1].grid(axis='y', linestyle='--', alpha=0.7)\n",
    "\n",
    "plt.tight_layout()\n",
    "plt.show()\n"
   ]
  },
  {
   "cell_type": "markdown",
   "id": "4c644950",
   "metadata": {},
   "source": [
    "- Thuộc tính sử dụng: `Gender`, `Depression`,`Have you ever had suicidal thoughts ?`\n",
    "- Nội dung biểu đồ:\n",
    "    * Biểu đồ so sánh hai vấn đề quan trọng của bệnh trầm cảm giữa hai nhóm đối tượng nam và nữ, sử dụng biểu đồ cột giúp dễ dàng thực hiện so sánh hơn.\n",
    "    * Đối với vấn đề trầm cảm, biểu đồ cho thấy ở cả hai giới tính thì giới trẻ hiện nay có nguy cơ mắc bệnh trầm cảm đều ở mức cao và hầu như không có sự khác biệt đối với cả hai giới tính.\n",
    "    * Đối với vấn đề \"Đã từng có ý nghĩ đến việc tự sát\", giá trị này thậm chí còn cao hơn so với nguy cơ mắc bệnh trầm cảm và không có sự khác biệt to lớn cả hai nhóm giới tính."
   ]
  },
  {
   "cell_type": "markdown",
   "id": "8da3978b",
   "metadata": {},
   "source": [
    "* <span style=\"font-style:italic;\">Phân tích và kết luận</span>"
   ]
  },
  {
   "cell_type": "markdown",
   "id": "f0579885",
   "metadata": {},
   "source": [
    "**Prompt AI hỗ trợ phân tích**: quan sát biều đồ, không cần nhận xét biểu đồ. Với thông tin thực tế rằng tỉ lệ mắc bệnh trầm cảm ở nữ cao gấp đôi so với nam giới, biểu đồ trên được thực hiện trên một nhóm đối tượng học sinh, sinh viên phần lớn dưới 25 tuổi với đa dạng ngành học và đều là người Ấn Độ. Hãy thực hiện một số phân tích và giải thích cho sự sai lệch này, cũng như có thể nói gì về tình hình trầm cảm đối với giới tính thể hiện qua biểu đồ"
   ]
  },
  {
   "cell_type": "markdown",
   "id": "c2b0e4ce",
   "metadata": {},
   "source": [
    "#### 🧠 Phân tích sâu về tình trạng trầm cảm theo giới tính\n",
    "\n",
    "##### 1. ❓ Tại sao nữ giới thường được cho là có nguy cơ trầm cảm cao hơn?\n",
    "- Các nghiên cứu toàn cầu chỉ ra rằng **phụ nữ có tỷ lệ trầm cảm cao hơn nam giới khoảng 1.5 đến 2 lần**.\n",
    "- Một số nguyên nhân chính bao gồm:\n",
    "  - Biến động hormone (đặc biệt trong tuổi dậy thì, thai kỳ, hậu sản)\n",
    "  - Áp lực kép giữa công việc và vai trò truyền thống trong gia đình\n",
    "  - Mức độ **dễ tổn thương tâm lý và biểu hiện cảm xúc cao hơn nam giới**\n",
    "\n",
    "##### 2. ⚠️ Tuy nhiên, dữ liệu thực tế không phải lúc nào cũng phản ánh như vậy\n",
    "- Trong nhiều nghiên cứu hiện đại (đặc biệt là ở người trẻ), tỷ lệ trầm cảm giữa hai giới **có thể gần bằng nhau**.\n",
    "- Điều này có thể do:\n",
    "  - **Nam giới trẻ ngày nay cũng chịu áp lực lớn**, như áp lực học tập, tài chính, tìm kiếm công việc.\n",
    "  - **Văn hóa chia sẻ cảm xúc đang dần thay đổi**, khiến nam giới thể hiện vấn đề tâm lý nhiều hơn.\n",
    "  - Khảo sát ẩn danh giúp giảm thiên lệch \"giấu bệnh\" ở nam giới.\n",
    "\n",
    "##### 3. 🌐 Vai trò của bối cảnh xã hội và văn hóa\n",
    "- Ở các nước như Ấn Độ, nơi hệ thống giáo dục cạnh tranh gay gắt và kỳ vọng xã hội cao:\n",
    "  - Cả nam và nữ đều có thể bị ảnh hưởng mạnh bởi **áp lực học tập**, **gia đình**, **sự bất ổn tài chính**.\n",
    "  - Trong môi trường đại học, **giới tính có thể không còn là yếu tố phân biệt mạnh** về mức độ trầm cảm.\n",
    "\n",
    "##### 4. ✅ Kết luận\n",
    "> Giới tính có thể ảnh hưởng đến nguy cơ trầm cảm, nhưng trong nhóm sinh viên trẻ, đặc biệt là ở các quốc gia đang phát triển, **trầm cảm có xu hướng ảnh hưởng gần như đồng đều đến cả hai giới**. Việc tập trung phân tích thêm các yếu tố xã hội, tâm lý và môi trường sẽ cho kết quả toàn diện và có giá trị hơn.\n"
   ]
  },
  {
   "cell_type": "markdown",
   "id": "1f4a5944",
   "metadata": {},
   "source": [
    "### <span style=\"color:#CCCCCC; font-weight:bold;\"> Chủ đề 2:  cảm.</span> <a id=\"ii1\"></a>"
   ]
  },
  {
   "cell_type": "markdown",
   "id": "97213cfc",
   "metadata": {},
   "source": [
    "* <span style=\"font-style:italic;\">Tại sao chủ đề này quan trọng</span>"
   ]
  },
  {
   "cell_type": "markdown",
   "id": "d70385d5",
   "metadata": {},
   "source": [
    "Trầm cảm \n"
   ]
  },
  {
   "cell_type": "markdown",
   "id": "62c6330f",
   "metadata": {},
   "source": [
    "* <span style=\"font-style:italic;\">Lợi ích khi phân tích vấn đề này</span>"
   ]
  },
  {
   "cell_type": "markdown",
   "id": "6d775e11",
   "metadata": {},
   "source": [
    "Xác thực vấn"
   ]
  },
  {
   "cell_type": "markdown",
   "id": "d52b61d4",
   "metadata": {},
   "source": [
    "* <span style=\"font-style:italic;\">Trực quan hoá</span>"
   ]
  },
  {
   "cell_type": "code",
   "execution_count": null,
   "id": "23dd6df5",
   "metadata": {},
   "outputs": [],
   "source": [
    "\n",
    "##Tính toán\n"
   ]
  },
  {
   "cell_type": "code",
   "execution_count": null,
   "id": "81aaf70e",
   "metadata": {},
   "outputs": [],
   "source": [
    "##Vẽ"
   ]
  },
  {
   "cell_type": "markdown",
   "id": "b9f22e0f",
   "metadata": {},
   "source": [
    "- Thuộc tính sử dụng: `Gender`\n",
    "- Nội dung biểu đồ:\n",
    "    * "
   ]
  },
  {
   "cell_type": "markdown",
   "id": "466826e4",
   "metadata": {},
   "source": [
    "* <span style=\"font-style:italic;\">Phân tích và kết luận</span>"
   ]
  },
  {
   "cell_type": "markdown",
   "id": "e2fdd0f6",
   "metadata": {},
   "source": [
    "**Prompt hỗ trợ phân tích**: "
   ]
  },
  {
   "cell_type": "markdown",
   "id": "d172da8e",
   "metadata": {},
   "source": [
    "## 🧠 Phân tích sâu về tình trạng trầm cảm theo giới tính\n",
    "\n",
    "\n"
   ]
  },
  {
   "cell_type": "markdown",
   "id": "e2f7dc45",
   "metadata": {},
   "source": [
    "### <span style=\"color:#CCCCCC; font-weight:bold;\"> Chủ đề 3: .</span> <a id=\"ii1\"></a>"
   ]
  }
 ],
 "metadata": {
  "kernelspec": {
   "display_name": "base",
   "language": "python",
   "name": "python3"
  },
  "language_info": {
   "codemirror_mode": {
    "name": "ipython",
    "version": 3
   },
   "file_extension": ".py",
   "mimetype": "text/x-python",
   "name": "python",
   "nbconvert_exporter": "python",
   "pygments_lexer": "ipython3",
   "version": "3.12.4"
  }
 },
 "nbformat": 4,
 "nbformat_minor": 5
}
